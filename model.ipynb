{
 "cells": [
  {
   "cell_type": "code",
   "execution_count": 3,
   "id": "c8b96dea",
   "metadata": {},
   "outputs": [],
   "source": [
    "import pandas as pd\n",
    "import numpy as np\n",
    "import joblib\n",
    "import os\n",
    "import gc\n",
    "\n",
    "from sklearn.preprocessing import MinMaxScaler\n",
    "from tensorflow.keras.models import Sequential\n",
    "from tensorflow.keras.layers import Input, Flatten, Dense, Reshape\n",
    "from tensorflow.keras.callbacks import EarlyStopping"
   ]
  },
  {
   "cell_type": "code",
   "execution_count": 4,
   "id": "117265c2",
   "metadata": {},
   "outputs": [],
   "source": [
    "# # Load\n",
    "# input_file = \"combined_data.csv\"\n",
    "# output_file = \"train_data_200k.csv\"\n",
    "# df = pd.read_csv(input_file, nrows=200000)\n",
    "# df.to_csv(output_file, index=False)"
   ]
  },
  {
   "cell_type": "code",
   "execution_count": 5,
   "id": "52800f66",
   "metadata": {},
   "outputs": [],
   "source": [
    "TIME_STEPS = 10\n",
    "BATCH = 16\n",
    "EPOCHS = 20\n",
    "MAX_SEQ = 20000   # optional cap để tiết kiệm RAM\n",
    "FEATURE_COLS = ['tempC','accX','accY','accZ','gyroX','gyroY','gyroZ','angleX','angleY','angleZ','hr']"
   ]
  },
  {
   "cell_type": "code",
   "execution_count": 6,
   "id": "b138a425",
   "metadata": {},
   "outputs": [
    {
     "data": {
      "text/html": [
       "<div>\n",
       "<style scoped>\n",
       "    .dataframe tbody tr th:only-of-type {\n",
       "        vertical-align: middle;\n",
       "    }\n",
       "\n",
       "    .dataframe tbody tr th {\n",
       "        vertical-align: top;\n",
       "    }\n",
       "\n",
       "    .dataframe thead th {\n",
       "        text-align: right;\n",
       "    }\n",
       "</style>\n",
       "<table border=\"1\" class=\"dataframe\">\n",
       "  <thead>\n",
       "    <tr style=\"text-align: right;\">\n",
       "      <th></th>\n",
       "      <th>time</th>\n",
       "      <th>tempC</th>\n",
       "      <th>accX</th>\n",
       "      <th>accY</th>\n",
       "      <th>accZ</th>\n",
       "      <th>gyroX</th>\n",
       "      <th>gyroY</th>\n",
       "      <th>gyroZ</th>\n",
       "      <th>angleX</th>\n",
       "      <th>angleY</th>\n",
       "      <th>angleZ</th>\n",
       "      <th>hr</th>\n",
       "    </tr>\n",
       "  </thead>\n",
       "  <tbody>\n",
       "    <tr>\n",
       "      <th>0</th>\n",
       "      <td>2021-01-01 11:22:48.305804</td>\n",
       "      <td>33.56</td>\n",
       "      <td>1.004385</td>\n",
       "      <td>-0.693700</td>\n",
       "      <td>-0.366474</td>\n",
       "      <td>1.154780</td>\n",
       "      <td>0.162031</td>\n",
       "      <td>-1.012268</td>\n",
       "      <td>0.000000</td>\n",
       "      <td>0.000000</td>\n",
       "      <td>0.000000</td>\n",
       "      <td>106.382999</td>\n",
       "    </tr>\n",
       "    <tr>\n",
       "      <th>1</th>\n",
       "      <td>2021-01-01 11:22:48.307804</td>\n",
       "      <td>33.56</td>\n",
       "      <td>1.004934</td>\n",
       "      <td>-0.696874</td>\n",
       "      <td>-0.370197</td>\n",
       "      <td>1.149587</td>\n",
       "      <td>0.175879</td>\n",
       "      <td>-1.005211</td>\n",
       "      <td>-0.637444</td>\n",
       "      <td>-0.066491</td>\n",
       "      <td>0.576309</td>\n",
       "      <td>106.382999</td>\n",
       "    </tr>\n",
       "    <tr>\n",
       "      <th>2</th>\n",
       "      <td>2021-01-01 11:22:48.309804</td>\n",
       "      <td>33.56</td>\n",
       "      <td>1.005605</td>\n",
       "      <td>-0.698339</td>\n",
       "      <td>-0.381550</td>\n",
       "      <td>1.137070</td>\n",
       "      <td>0.198783</td>\n",
       "      <td>-0.985370</td>\n",
       "      <td>-1.268609</td>\n",
       "      <td>-0.139815</td>\n",
       "      <td>1.141699</td>\n",
       "      <td>106.382999</td>\n",
       "    </tr>\n",
       "    <tr>\n",
       "      <th>3</th>\n",
       "      <td>2021-01-01 11:22:48.311804</td>\n",
       "      <td>33.56</td>\n",
       "      <td>1.005605</td>\n",
       "      <td>-0.698339</td>\n",
       "      <td>-0.381550</td>\n",
       "      <td>1.137070</td>\n",
       "      <td>0.198783</td>\n",
       "      <td>-0.985370</td>\n",
       "      <td>-1.900552</td>\n",
       "      <td>-0.206855</td>\n",
       "      <td>1.707557</td>\n",
       "      <td>106.382999</td>\n",
       "    </tr>\n",
       "    <tr>\n",
       "      <th>4</th>\n",
       "      <td>2021-01-01 11:22:48.313804</td>\n",
       "      <td>33.56</td>\n",
       "      <td>1.007192</td>\n",
       "      <td>-0.700902</td>\n",
       "      <td>-0.383748</td>\n",
       "      <td>1.129213</td>\n",
       "      <td>0.206506</td>\n",
       "      <td>-0.972453</td>\n",
       "      <td>-2.528838</td>\n",
       "      <td>-0.272241</td>\n",
       "      <td>2.266426</td>\n",
       "      <td>106.382999</td>\n",
       "    </tr>\n",
       "  </tbody>\n",
       "</table>\n",
       "</div>"
      ],
      "text/plain": [
       "                         time  tempC      accX      accY      accZ     gyroX  \\\n",
       "0  2021-01-01 11:22:48.305804  33.56  1.004385 -0.693700 -0.366474  1.154780   \n",
       "1  2021-01-01 11:22:48.307804  33.56  1.004934 -0.696874 -0.370197  1.149587   \n",
       "2  2021-01-01 11:22:48.309804  33.56  1.005605 -0.698339 -0.381550  1.137070   \n",
       "3  2021-01-01 11:22:48.311804  33.56  1.005605 -0.698339 -0.381550  1.137070   \n",
       "4  2021-01-01 11:22:48.313804  33.56  1.007192 -0.700902 -0.383748  1.129213   \n",
       "\n",
       "      gyroY     gyroZ    angleX    angleY    angleZ          hr  \n",
       "0  0.162031 -1.012268  0.000000  0.000000  0.000000  106.382999  \n",
       "1  0.175879 -1.005211 -0.637444 -0.066491  0.576309  106.382999  \n",
       "2  0.198783 -0.985370 -1.268609 -0.139815  1.141699  106.382999  \n",
       "3  0.198783 -0.985370 -1.900552 -0.206855  1.707557  106.382999  \n",
       "4  0.206506 -0.972453 -2.528838 -0.272241  2.266426  106.382999  "
      ]
     },
     "execution_count": 6,
     "metadata": {},
     "output_type": "execute_result"
    }
   ],
   "source": [
    "df = pd.read_csv(\"train_data_200k.csv\")\n",
    "df.head()"
   ]
  },
  {
   "cell_type": "code",
   "execution_count": 7,
   "id": "7d569b9a",
   "metadata": {},
   "outputs": [],
   "source": [
    "# Chuẩn hoá dữ liệu\n",
    "scaler = MinMaxScaler()\n",
    "data_scaled = scaler.fit_transform(df[FEATURE_COLS].values)\n",
    "joblib.dump(scaler, \"scaler.pkl\")\n",
    "\n",
    "mins = scaler.data_min_\n",
    "maxs = scaler.data_max_\n",
    "np.save(\"feature_mins.npy\", np.array(mins, dtype=np.float32))\n",
    "np.save(\"feature_maxs.npy\", np.array(maxs, dtype=np.float32))"
   ]
  },
  {
   "cell_type": "code",
   "execution_count": 8,
   "id": "64b557ed",
   "metadata": {},
   "outputs": [
    {
     "name": "stdout",
     "output_type": "stream",
     "text": [
      "Sequences shape: (20000, 10, 11)\n"
     ]
    }
   ],
   "source": [
    "def create_sequences(arr, time_steps=TIME_STEPS):\n",
    "    X = []\n",
    "    for i in range(len(arr) - time_steps + 1):\n",
    "        X.append(arr[i:i+time_steps])\n",
    "    return np.array(X)\n",
    "\n",
    "X = create_sequences(data_scaled, TIME_STEPS)\n",
    "if len(X) > MAX_SEQ:\n",
    "    X = X[:MAX_SEQ]\n",
    "print(\"Sequences shape:\", X.shape)  # (N_seq, 10, 11)"
   ]
  },
  {
   "cell_type": "code",
   "execution_count": 9,
   "id": "2a9c5695",
   "metadata": {},
   "outputs": [
    {
     "data": {
      "text/html": [
       "<pre style=\"white-space:pre;overflow-x:auto;line-height:normal;font-family:Menlo,'DejaVu Sans Mono',consolas,'Courier New',monospace\"><span style=\"font-weight: bold\">Model: \"sequential\"</span>\n",
       "</pre>\n"
      ],
      "text/plain": [
       "\u001b[1mModel: \"sequential\"\u001b[0m\n"
      ]
     },
     "metadata": {},
     "output_type": "display_data"
    },
    {
     "data": {
      "text/html": [
       "<pre style=\"white-space:pre;overflow-x:auto;line-height:normal;font-family:Menlo,'DejaVu Sans Mono',consolas,'Courier New',monospace\">┏━━━━━━━━━━━━━━━━━━━━━━━━━━━━━━━━━┳━━━━━━━━━━━━━━━━━━━━━━━━┳━━━━━━━━━━━━━━━┓\n",
       "┃<span style=\"font-weight: bold\"> Layer (type)                    </span>┃<span style=\"font-weight: bold\"> Output Shape           </span>┃<span style=\"font-weight: bold\">       Param # </span>┃\n",
       "┡━━━━━━━━━━━━━━━━━━━━━━━━━━━━━━━━━╇━━━━━━━━━━━━━━━━━━━━━━━━╇━━━━━━━━━━━━━━━┩\n",
       "│ flatten (<span style=\"color: #0087ff; text-decoration-color: #0087ff\">Flatten</span>)               │ (<span style=\"color: #00d7ff; text-decoration-color: #00d7ff\">None</span>, <span style=\"color: #00af00; text-decoration-color: #00af00\">110</span>)            │             <span style=\"color: #00af00; text-decoration-color: #00af00\">0</span> │\n",
       "├─────────────────────────────────┼────────────────────────┼───────────────┤\n",
       "│ dense (<span style=\"color: #0087ff; text-decoration-color: #0087ff\">Dense</span>)                   │ (<span style=\"color: #00d7ff; text-decoration-color: #00d7ff\">None</span>, <span style=\"color: #00af00; text-decoration-color: #00af00\">64</span>)             │         <span style=\"color: #00af00; text-decoration-color: #00af00\">7,104</span> │\n",
       "├─────────────────────────────────┼────────────────────────┼───────────────┤\n",
       "│ dense_1 (<span style=\"color: #0087ff; text-decoration-color: #0087ff\">Dense</span>)                 │ (<span style=\"color: #00d7ff; text-decoration-color: #00d7ff\">None</span>, <span style=\"color: #00af00; text-decoration-color: #00af00\">32</span>)             │         <span style=\"color: #00af00; text-decoration-color: #00af00\">2,080</span> │\n",
       "├─────────────────────────────────┼────────────────────────┼───────────────┤\n",
       "│ dense_2 (<span style=\"color: #0087ff; text-decoration-color: #0087ff\">Dense</span>)                 │ (<span style=\"color: #00d7ff; text-decoration-color: #00d7ff\">None</span>, <span style=\"color: #00af00; text-decoration-color: #00af00\">64</span>)             │         <span style=\"color: #00af00; text-decoration-color: #00af00\">2,112</span> │\n",
       "├─────────────────────────────────┼────────────────────────┼───────────────┤\n",
       "│ dense_3 (<span style=\"color: #0087ff; text-decoration-color: #0087ff\">Dense</span>)                 │ (<span style=\"color: #00d7ff; text-decoration-color: #00d7ff\">None</span>, <span style=\"color: #00af00; text-decoration-color: #00af00\">110</span>)            │         <span style=\"color: #00af00; text-decoration-color: #00af00\">7,150</span> │\n",
       "├─────────────────────────────────┼────────────────────────┼───────────────┤\n",
       "│ reshape (<span style=\"color: #0087ff; text-decoration-color: #0087ff\">Reshape</span>)               │ (<span style=\"color: #00d7ff; text-decoration-color: #00d7ff\">None</span>, <span style=\"color: #00af00; text-decoration-color: #00af00\">10</span>, <span style=\"color: #00af00; text-decoration-color: #00af00\">11</span>)         │             <span style=\"color: #00af00; text-decoration-color: #00af00\">0</span> │\n",
       "└─────────────────────────────────┴────────────────────────┴───────────────┘\n",
       "</pre>\n"
      ],
      "text/plain": [
       "┏━━━━━━━━━━━━━━━━━━━━━━━━━━━━━━━━━┳━━━━━━━━━━━━━━━━━━━━━━━━┳━━━━━━━━━━━━━━━┓\n",
       "┃\u001b[1m \u001b[0m\u001b[1mLayer (type)                   \u001b[0m\u001b[1m \u001b[0m┃\u001b[1m \u001b[0m\u001b[1mOutput Shape          \u001b[0m\u001b[1m \u001b[0m┃\u001b[1m \u001b[0m\u001b[1m      Param #\u001b[0m\u001b[1m \u001b[0m┃\n",
       "┡━━━━━━━━━━━━━━━━━━━━━━━━━━━━━━━━━╇━━━━━━━━━━━━━━━━━━━━━━━━╇━━━━━━━━━━━━━━━┩\n",
       "│ flatten (\u001b[38;5;33mFlatten\u001b[0m)               │ (\u001b[38;5;45mNone\u001b[0m, \u001b[38;5;34m110\u001b[0m)            │             \u001b[38;5;34m0\u001b[0m │\n",
       "├─────────────────────────────────┼────────────────────────┼───────────────┤\n",
       "│ dense (\u001b[38;5;33mDense\u001b[0m)                   │ (\u001b[38;5;45mNone\u001b[0m, \u001b[38;5;34m64\u001b[0m)             │         \u001b[38;5;34m7,104\u001b[0m │\n",
       "├─────────────────────────────────┼────────────────────────┼───────────────┤\n",
       "│ dense_1 (\u001b[38;5;33mDense\u001b[0m)                 │ (\u001b[38;5;45mNone\u001b[0m, \u001b[38;5;34m32\u001b[0m)             │         \u001b[38;5;34m2,080\u001b[0m │\n",
       "├─────────────────────────────────┼────────────────────────┼───────────────┤\n",
       "│ dense_2 (\u001b[38;5;33mDense\u001b[0m)                 │ (\u001b[38;5;45mNone\u001b[0m, \u001b[38;5;34m64\u001b[0m)             │         \u001b[38;5;34m2,112\u001b[0m │\n",
       "├─────────────────────────────────┼────────────────────────┼───────────────┤\n",
       "│ dense_3 (\u001b[38;5;33mDense\u001b[0m)                 │ (\u001b[38;5;45mNone\u001b[0m, \u001b[38;5;34m110\u001b[0m)            │         \u001b[38;5;34m7,150\u001b[0m │\n",
       "├─────────────────────────────────┼────────────────────────┼───────────────┤\n",
       "│ reshape (\u001b[38;5;33mReshape\u001b[0m)               │ (\u001b[38;5;45mNone\u001b[0m, \u001b[38;5;34m10\u001b[0m, \u001b[38;5;34m11\u001b[0m)         │             \u001b[38;5;34m0\u001b[0m │\n",
       "└─────────────────────────────────┴────────────────────────┴───────────────┘\n"
      ]
     },
     "metadata": {},
     "output_type": "display_data"
    },
    {
     "data": {
      "text/html": [
       "<pre style=\"white-space:pre;overflow-x:auto;line-height:normal;font-family:Menlo,'DejaVu Sans Mono',consolas,'Courier New',monospace\"><span style=\"font-weight: bold\"> Total params: </span><span style=\"color: #00af00; text-decoration-color: #00af00\">18,446</span> (72.05 KB)\n",
       "</pre>\n"
      ],
      "text/plain": [
       "\u001b[1m Total params: \u001b[0m\u001b[38;5;34m18,446\u001b[0m (72.05 KB)\n"
      ]
     },
     "metadata": {},
     "output_type": "display_data"
    },
    {
     "data": {
      "text/html": [
       "<pre style=\"white-space:pre;overflow-x:auto;line-height:normal;font-family:Menlo,'DejaVu Sans Mono',consolas,'Courier New',monospace\"><span style=\"font-weight: bold\"> Trainable params: </span><span style=\"color: #00af00; text-decoration-color: #00af00\">18,446</span> (72.05 KB)\n",
       "</pre>\n"
      ],
      "text/plain": [
       "\u001b[1m Trainable params: \u001b[0m\u001b[38;5;34m18,446\u001b[0m (72.05 KB)\n"
      ]
     },
     "metadata": {},
     "output_type": "display_data"
    },
    {
     "data": {
      "text/html": [
       "<pre style=\"white-space:pre;overflow-x:auto;line-height:normal;font-family:Menlo,'DejaVu Sans Mono',consolas,'Courier New',monospace\"><span style=\"font-weight: bold\"> Non-trainable params: </span><span style=\"color: #00af00; text-decoration-color: #00af00\">0</span> (0.00 B)\n",
       "</pre>\n"
      ],
      "text/plain": [
       "\u001b[1m Non-trainable params: \u001b[0m\u001b[38;5;34m0\u001b[0m (0.00 B)\n"
      ]
     },
     "metadata": {},
     "output_type": "display_data"
    }
   ],
   "source": [
    "# Tạo model\n",
    "n_features = X.shape[2]\n",
    "model = Sequential([\n",
    "    Input(shape=(TIME_STEPS, n_features)),\n",
    "    Flatten(),\n",
    "    Dense(64, activation='relu'),\n",
    "    Dense(32, activation='relu'),\n",
    "    Dense(64, activation='relu'),\n",
    "    Dense(TIME_STEPS * n_features, activation='sigmoid'),  # vì dùng MinMaxScaler -> in [0,1]\n",
    "    Reshape((TIME_STEPS, n_features))\n",
    "])\n",
    "model.compile(optimizer='adam', loss='mse')\n",
    "model.summary()"
   ]
  },
  {
   "cell_type": "code",
   "execution_count": 10,
   "id": "ab204200",
   "metadata": {},
   "outputs": [
    {
     "name": "stdout",
     "output_type": "stream",
     "text": [
      "Epoch 1/20\n",
      "\u001b[1m1250/1250\u001b[0m \u001b[32m━━━━━━━━━━━━━━━━━━━━\u001b[0m\u001b[37m\u001b[0m \u001b[1m3s\u001b[0m 2ms/step - loss: 0.0059\n",
      "Epoch 2/20\n",
      "\u001b[1m1250/1250\u001b[0m \u001b[32m━━━━━━━━━━━━━━━━━━━━\u001b[0m\u001b[37m\u001b[0m \u001b[1m2s\u001b[0m 1ms/step - loss: 0.0014\n",
      "Epoch 3/20\n",
      "\u001b[1m1250/1250\u001b[0m \u001b[32m━━━━━━━━━━━━━━━━━━━━\u001b[0m\u001b[37m\u001b[0m \u001b[1m2s\u001b[0m 1ms/step - loss: 0.0011\n",
      "Epoch 4/20\n",
      "\u001b[1m1250/1250\u001b[0m \u001b[32m━━━━━━━━━━━━━━━━━━━━\u001b[0m\u001b[37m\u001b[0m \u001b[1m2s\u001b[0m 1ms/step - loss: 8.3994e-04\n",
      "Epoch 5/20\n",
      "\u001b[1m1250/1250\u001b[0m \u001b[32m━━━━━━━━━━━━━━━━━━━━\u001b[0m\u001b[37m\u001b[0m \u001b[1m2s\u001b[0m 1ms/step - loss: 6.4777e-04\n",
      "Epoch 6/20\n",
      "\u001b[1m1250/1250\u001b[0m \u001b[32m━━━━━━━━━━━━━━━━━━━━\u001b[0m\u001b[37m\u001b[0m \u001b[1m2s\u001b[0m 1ms/step - loss: 5.8641e-04\n",
      "Epoch 7/20\n",
      "\u001b[1m1250/1250\u001b[0m \u001b[32m━━━━━━━━━━━━━━━━━━━━\u001b[0m\u001b[37m\u001b[0m \u001b[1m2s\u001b[0m 1ms/step - loss: 5.4341e-04\n",
      "Epoch 8/20\n",
      "\u001b[1m1250/1250\u001b[0m \u001b[32m━━━━━━━━━━━━━━━━━━━━\u001b[0m\u001b[37m\u001b[0m \u001b[1m2s\u001b[0m 1ms/step - loss: 5.0655e-04\n",
      "Epoch 9/20\n",
      "\u001b[1m1250/1250\u001b[0m \u001b[32m━━━━━━━━━━━━━━━━━━━━\u001b[0m\u001b[37m\u001b[0m \u001b[1m2s\u001b[0m 1ms/step - loss: 4.8932e-04\n",
      "Epoch 10/20\n",
      "\u001b[1m1250/1250\u001b[0m \u001b[32m━━━━━━━━━━━━━━━━━━━━\u001b[0m\u001b[37m\u001b[0m \u001b[1m2s\u001b[0m 1ms/step - loss: 4.7053e-04\n",
      "Epoch 11/20\n",
      "\u001b[1m1250/1250\u001b[0m \u001b[32m━━━━━━━━━━━━━━━━━━━━\u001b[0m\u001b[37m\u001b[0m \u001b[1m2s\u001b[0m 1ms/step - loss: 4.5679e-04\n",
      "Epoch 12/20\n",
      "\u001b[1m1250/1250\u001b[0m \u001b[32m━━━━━━━━━━━━━━━━━━━━\u001b[0m\u001b[37m\u001b[0m \u001b[1m2s\u001b[0m 1ms/step - loss: 4.4278e-04\n",
      "Epoch 13/20\n",
      "\u001b[1m1250/1250\u001b[0m \u001b[32m━━━━━━━━━━━━━━━━━━━━\u001b[0m\u001b[37m\u001b[0m \u001b[1m2s\u001b[0m 1ms/step - loss: 4.2985e-04\n",
      "Epoch 14/20\n",
      "\u001b[1m1250/1250\u001b[0m \u001b[32m━━━━━━━━━━━━━━━━━━━━\u001b[0m\u001b[37m\u001b[0m \u001b[1m2s\u001b[0m 1ms/step - loss: 4.1971e-04\n",
      "Epoch 15/20\n",
      "\u001b[1m1250/1250\u001b[0m \u001b[32m━━━━━━━━━━━━━━━━━━━━\u001b[0m\u001b[37m\u001b[0m \u001b[1m2s\u001b[0m 1ms/step - loss: 4.1200e-04\n",
      "Epoch 16/20\n",
      "\u001b[1m1250/1250\u001b[0m \u001b[32m━━━━━━━━━━━━━━━━━━━━\u001b[0m\u001b[37m\u001b[0m \u001b[1m2s\u001b[0m 1ms/step - loss: 4.0878e-04\n",
      "Epoch 17/20\n",
      "\u001b[1m1250/1250\u001b[0m \u001b[32m━━━━━━━━━━━━━━━━━━━━\u001b[0m\u001b[37m\u001b[0m \u001b[1m2s\u001b[0m 1ms/step - loss: 4.0348e-04\n",
      "Epoch 18/20\n",
      "\u001b[1m1250/1250\u001b[0m \u001b[32m━━━━━━━━━━━━━━━━━━━━\u001b[0m\u001b[37m\u001b[0m \u001b[1m2s\u001b[0m 1ms/step - loss: 4.0187e-04\n",
      "Epoch 19/20\n",
      "\u001b[1m1250/1250\u001b[0m \u001b[32m━━━━━━━━━━━━━━━━━━━━\u001b[0m\u001b[37m\u001b[0m \u001b[1m3s\u001b[0m 1ms/step - loss: 3.9777e-04\n",
      "Epoch 20/20\n",
      "\u001b[1m1250/1250\u001b[0m \u001b[32m━━━━━━━━━━━━━━━━━━━━\u001b[0m\u001b[37m\u001b[0m \u001b[1m3s\u001b[0m 1ms/step - loss: 3.9339e-04\n"
     ]
    }
   ],
   "source": [
    "# Huấn luyện\n",
    "early_stop = EarlyStopping(monitor='loss', patience=3, restore_best_weights=True)\n",
    "history = model.fit(X, \n",
    "                    X, \n",
    "                    batch_size=BATCH, \n",
    "                    epochs=EPOCHS, \n",
    "                    shuffle=True,\n",
    "                    callbacks=[early_stop], \n",
    "                    verbose=1)\n",
    "\n"
   ]
  },
  {
   "cell_type": "code",
   "execution_count": 11,
   "id": "e3678145",
   "metadata": {},
   "outputs": [
    {
     "name": "stdout",
     "output_type": "stream",
     "text": [
      "Threshold 95pct: 0.0008969453198172658   99pct: 0.0035065565481153587\n"
     ]
    }
   ],
   "source": [
    "X_pred = model.predict(X, verbose=0)\n",
    "mse = np.mean(np.power(X - X_pred, 2), axis=(1,2))  # MSE per sequence\n",
    "thr95 = np.percentile(mse, 95)\n",
    "thr99 = np.percentile(mse, 99)\n",
    "print(\"Threshold 95pct:\", thr95, \"  99pct:\", thr99)\n"
   ]
  },
  {
   "cell_type": "code",
   "execution_count": 12,
   "id": "74e0d6d5",
   "metadata": {},
   "outputs": [
    {
     "data": {
      "text/plain": [
       "Text(0, 0.5, 'MSE')"
      ]
     },
     "execution_count": 12,
     "metadata": {},
     "output_type": "execute_result"
    },
    {
     "data": {
      "image/png": "[encoded data removed]",
      "text/plain": [
       "<Figure size 640x480 with 1 Axes>"
      ]
     },
     "metadata": {},
     "output_type": "display_data"
    }
   ],
   "source": [
    "import matplotlib.pyplot as plt\n",
    "plt.plot(history.history['loss'])\n",
    "plt.title('Training Loss')\n",
    "plt.xlabel('Epoch')\n",
    "plt.ylabel('MSE')"
   ]
  },
  {
   "cell_type": "code",
   "execution_count": 13,
   "id": "01324065",
   "metadata": {},
   "outputs": [
    {
     "data": {
      "image/png": "[encoded data removed]",
      "text/plain": [
       "<Figure size 800x500 with 1 Axes>"
      ]
     },
     "metadata": {},
     "output_type": "display_data"
    }
   ],
   "source": [
    "plt.figure(figsize=(8,5))\n",
    "plt.hist(mse, bins=50, color='skyblue', edgecolor='black')\n",
    "plt.axvline(np.percentile(mse, 95), color='red', linestyle='--', label='95% threshold')\n",
    "plt.axvline(np.percentile(mse, 99), color='orange', linestyle='--', label='99% threshold')\n",
    "plt.title('Phân bố Reconstruction Error (MSE)')\n",
    "plt.xlabel('MSE')\n",
    "plt.ylabel('Số lượng mẫu')\n",
    "plt.legend()\n",
    "plt.show()\n"
   ]
  },
  {
   "cell_type": "code",
   "execution_count": 14,
   "id": "85e5e5c7",
   "metadata": {},
   "outputs": [
    {
     "name": "stderr",
     "output_type": "stream",
     "text": [
      "WARNING:absl:You are saving your model as an HDF5 file via `model.save()` or `keras.saving.save_model(model)`. This file format is considered legacy. We recommend using instead the native Keras format, e.g. `model.save('my_model.keras')` or `keras.saving.save_model(model, 'my_model.keras')`. \n"
     ]
    }
   ],
   "source": [
    "np.save(\"mse_threshold_95.npy\", np.array([thr95], dtype=np.float32))\n",
    "np.save(\"mse_threshold_99.npy\", np.array([thr99], dtype=np.float32))\n",
    "model.save(\"dense_autoencoder_model.h5\")\n"
   ]
  },
  {
   "cell_type": "code",
   "execution_count": 15,
   "id": "e3d6aec6",
   "metadata": {},
   "outputs": [
    {
     "name": "stdout",
     "output_type": "stream",
     "text": [
      "INFO:tensorflow:Assets written to: C:\\Users\\ASUS\\AppData\\Local\\Temp\\tmphx3189cf\\assets\n"
     ]
    },
    {
     "name": "stderr",
     "output_type": "stream",
     "text": [
      "INFO:tensorflow:Assets written to: C:\\Users\\ASUS\\AppData\\Local\\Temp\\tmphx3189cf\\assets\n"
     ]
    },
    {
     "name": "stdout",
     "output_type": "stream",
     "text": [
      "Saved artifact at 'C:\\Users\\ASUS\\AppData\\Local\\Temp\\tmphx3189cf'. The following endpoints are available:\n",
      "\n",
      "* Endpoint 'serve'\n",
      "  args_0 (POSITIONAL_ONLY): TensorSpec(shape=(None, 10, 11), dtype=tf.float32, name='keras_tensor')\n",
      "Output Type:\n",
      "  TensorSpec(shape=(None, 10, 11), dtype=tf.float32, name=None)\n",
      "Captures:\n",
      "  2242185018256: TensorSpec(shape=(), dtype=tf.resource, name=None)\n",
      "  2242185019216: TensorSpec(shape=(), dtype=tf.resource, name=None)\n",
      "  2242185018640: TensorSpec(shape=(), dtype=tf.resource, name=None)\n",
      "  2242270381072: TensorSpec(shape=(), dtype=tf.resource, name=None)\n",
      "  2242270381456: TensorSpec(shape=(), dtype=tf.resource, name=None)\n",
      "  2242270381840: TensorSpec(shape=(), dtype=tf.resource, name=None)\n",
      "  2242270380304: TensorSpec(shape=(), dtype=tf.resource, name=None)\n",
      "  2242270380688: TensorSpec(shape=(), dtype=tf.resource, name=None)\n"
     ]
    },
    {
     "name": "stderr",
     "output_type": "stream",
     "text": [
      "C:\\Users\\ASUS\\AppData\\Roaming\\Python\\Python311\\site-packages\\tensorflow\\lite\\python\\convert.py:863: UserWarning: Statistics for quantized inputs were expected, but not specified; continuing anyway.\n",
      "  warnings.warn(\n"
     ]
    },
    {
     "name": "stdout",
     "output_type": "stream",
     "text": [
      "Saved int8 quantized model (KB): 29.6328125\n"
     ]
    },
    {
     "data": {
      "text/plain": [
       "8219"
      ]
     },
     "execution_count": 15,
     "metadata": {},
     "output_type": "execute_result"
    }
   ],
   "source": [
    "# Convert sang TFLite int8\n",
    "\n",
    "import tensorflow as tf\n",
    "\n",
    "# Representative dataset\n",
    "def representative_data_gen():\n",
    "    step = max(1, len(X)//150)\n",
    "    for i in range(0, len(X), step):\n",
    "        sample = X[i:i+1].astype(np.float32)\n",
    "        yield [sample]\n",
    "\n",
    "converter = tf.lite.TFLiteConverter.from_keras_model(model)\n",
    "converter.optimizations = [tf.lite.Optimize.DEFAULT]\n",
    "converter.representative_dataset = representative_data_gen\n",
    "converter.target_spec.supported_ops = [tf.lite.OpsSet.TFLITE_BUILTINS_INT8]\n",
    "converter.inference_input_type = tf.int8\n",
    "converter.inference_output_type = tf.int8\n",
    "\n",
    "tflite_quant_model = converter.convert()\n",
    "with open(\"dense_autoencoder_esp32_int8.tflite\",\"wb\") as f:\n",
    "    f.write(tflite_quant_model)\n",
    "\n",
    "print(\"Saved int8 quantized model (KB):\", os.path.getsize(\"dense_autoencoder_esp32_int8.tflite\")/1024)\n",
    "gc.collect()\n"
   ]
  },
  {
   "cell_type": "code",
   "execution_count": 16,
   "id": "c85145fb",
   "metadata": {},
   "outputs": [
    {
     "name": "stdout",
     "output_type": "stream",
     "text": [
      "Input details: [{'name': 'serving_default_keras_tensor:0', 'index': 0, 'shape': array([ 1, 10, 11]), 'shape_signature': array([-1, 10, 11]), 'dtype': <class 'numpy.int8'>, 'quantization': (0.003916582092642784, -128), 'quantization_parameters': {'scales': array([0.00391658], dtype=float32), 'zero_points': array([-128]), 'quantized_dimension': 0}, 'sparsity_parameters': {}}]\n",
      "Output details: [{'name': 'StatefulPartitionedCall_1:0', 'index': 26, 'shape': array([ 1, 10, 11]), 'shape_signature': array([-1, 10, 11]), 'dtype': <class 'numpy.int8'>, 'quantization': (0.00390625, -128), 'quantization_parameters': {'scales': array([0.00390625], dtype=float32), 'zero_points': array([-128]), 'quantized_dimension': 0}, 'sparsity_parameters': {}}]\n",
      "\u001b[1m1/1\u001b[0m \u001b[32m━━━━━━━━━━━━━━━━━━━━\u001b[0m\u001b[37m\u001b[0m \u001b[1m0s\u001b[0m 77ms/step\n",
      "\n",
      "MSE gốc (float32): 0.000192\n",
      "MSE int8 (TFLite): 0.000243\n",
      "Sai khác: 26.50%\n",
      "Model sau lượng tử hoá sai khác nhiều → nên cải thiện representative dataset.\n"
     ]
    },
    {
     "name": "stderr",
     "output_type": "stream",
     "text": [
      "C:\\Users\\ASUS\\AppData\\Roaming\\Python\\Python311\\site-packages\\tensorflow\\lite\\python\\interpreter.py:457: UserWarning:     Warning: tf.lite.Interpreter is deprecated and is scheduled for deletion in\n",
      "    TF 2.20. Please use the LiteRT interpreter from the ai_edge_litert package.\n",
      "    See the [migration guide](https://ai.google.dev/edge/litert/migration)\n",
      "    for details.\n",
      "    \n",
      "  warnings.warn(_INTERPRETER_DELETION_WARNING)\n"
     ]
    },
    {
     "data": {
      "text/plain": [
       "329"
      ]
     },
     "execution_count": 16,
     "metadata": {},
     "output_type": "execute_result"
    }
   ],
   "source": [
    "# Load mô hình TFLite int8\n",
    "interpreter = tf.lite.Interpreter(model_path=\"dense_autoencoder_esp32_int8.tflite\")\n",
    "interpreter.allocate_tensors()\n",
    "\n",
    "# Lấy thông tin input/output\n",
    "input_details = interpreter.get_input_details()\n",
    "output_details = interpreter.get_output_details()\n",
    "\n",
    "# In ra để kiểm tra\n",
    "print(\"Input details:\", input_details)\n",
    "print(\"Output details:\", output_details)\n",
    "\n",
    "# Lấy scale và zero-point\n",
    "input_scale, input_zero_point = input_details[0]['quantization']\n",
    "output_scale, output_zero_point = output_details[0]['quantization']\n",
    "\n",
    "# Chọn 1 mẫu duy nhất để test (1, 10, 11)\n",
    "test_sample = X[0:1].astype(np.float32)  # Giữ 3D (1, TIME_STEPS, n_features)\n",
    "\n",
    "# Chạy model gốc float32\n",
    "float_pred = model.predict(test_sample)\n",
    "\n",
    "# Chuẩn bị input int8 cho TFLite\n",
    "test_input_int8 = test_sample / input_scale + input_zero_point\n",
    "test_input_int8 = np.clip(test_input_int8, -128, 127).astype(np.int8)\n",
    "\n",
    "# Set input cho interpreter\n",
    "interpreter.set_tensor(input_details[0]['index'], test_input_int8)\n",
    "interpreter.invoke()\n",
    "\n",
    "# Lấy output\n",
    "tflite_output = interpreter.get_tensor(output_details[0]['index'])\n",
    "\n",
    "# Quy đổi ngược về float32\n",
    "tflite_output_float = (tflite_output.astype(np.float32) - output_zero_point) * output_scale\n",
    "\n",
    "# So sánh kết quả\n",
    "mse_float = np.mean(np.power(test_sample - float_pred, 2))\n",
    "mse_tflite = np.mean(np.power(test_sample - tflite_output_float, 2))\n",
    "diff = abs(mse_tflite - mse_float) / mse_float * 100\n",
    "\n",
    "print(f\"\\nMSE gốc (float32): {mse_float:.6f}\")\n",
    "print(f\"MSE int8 (TFLite): {mse_tflite:.6f}\")\n",
    "print(f\"Sai khác: {diff:.2f}%\")\n",
    "\n",
    "if diff < 10:\n",
    "    print(\"Kết quả gần như giống nhau → an toàn để nạp ESP32.\")\n",
    "elif diff < 25:\n",
    "    print(\"Sai khác trung bình → vẫn dùng được, nhưng nên kiểm tra lại dữ liệu đại diện.\")\n",
    "else:\n",
    "    print(\"Model sau lượng tử hoá sai khác nhiều → nên cải thiện representative dataset.\")\n",
    "\n",
    "gc.collect()"
   ]
  },
  {
   "cell_type": "code",
   "execution_count": 17,
   "id": "f6245649",
   "metadata": {},
   "outputs": [
    {
     "name": "stdout",
     "output_type": "stream",
     "text": [
      "Ước tính Tensor Arena: 0.859375 KB\n"
     ]
    }
   ],
   "source": [
    "input_bytes = np.prod(input_details[0]['shape'])\n",
    "arena_estimate = input_bytes * 8\n",
    "print(\"Ước tính Tensor Arena:\", arena_estimate / 1024, \"KB\")"
   ]
  },
  {
   "cell_type": "code",
   "execution_count": 18,
   "id": "65320e05",
   "metadata": {},
   "outputs": [
    {
     "name": "stdout",
     "output_type": "stream",
     "text": [
      "Đã tạo file dense_autoencoder_esp32_int8.h\n"
     ]
    }
   ],
   "source": [
    "with open(\"dense_autoencoder_esp32_int8.tflite\", \"rb\") as f:\n",
    "    data = f.read()\n",
    "\n",
    "# Tạo nội dung file .h\n",
    "hex_array = ', '.join(f'0x{b:02x}' for b in data)\n",
    "header = f\"\"\"\\\n",
    "#ifndef DENSE_AUTOENCODER_ESP32_INT8_H\n",
    "#define DENSE_AUTOENCODER_ESP32_INT8_H\n",
    "\n",
    "const unsigned char dense_autoencoder_esp32_int8_tflite[] = {{\n",
    "{hex_array}\n",
    "}};\n",
    "\n",
    "const int dense_autoencoder_esp32_int8_tflite_len = {len(data)};\n",
    "\n",
    "#endif  // DENSE_AUTOENCODER_ESP32_INT8_H\n",
    "\"\"\"\n",
    "\n",
    "# Ghi ra file .h\n",
    "with open(\"dense_autoencoder_esp32_int8.h\", \"w\") as f:\n",
    "    f.write(header)\n",
    "\n",
    "print(\"Đã tạo file dense_autoencoder_esp32_int8.h\")"
   ]
  }
 ],
 "metadata": {
  "kernelspec": {
   "display_name": "py311",
   "language": "python",
   "name": "python3"
  },
  "language_info": {
   "codemirror_mode": {
    "name": "ipython",
    "version": 3
   },
   "file_extension": ".py",
   "mimetype": "text/x-python",
   "name": "python",
   "nbconvert_exporter": "python",
   "pygments_lexer": "ipython3",
   "version": "3.11.13"
  }
 },
 "nbformat": 4,
 "nbformat_minor": 5
}
