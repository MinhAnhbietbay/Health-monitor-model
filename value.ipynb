{
 "cells": [
  {
   "cell_type": "code",
   "execution_count": 13,
   "id": "45167c39",
   "metadata": {},
   "outputs": [],
   "source": [
    "import numpy as np\n",
    "thr95 = np.load(\"mse_threshold_95.npy\", allow_pickle=False)[0]\n",
    "thr99 = np.load(\"mse_threshold_99.npy\", allow_pickle=False)[0]"
   ]
  },
  {
   "cell_type": "code",
   "execution_count": 14,
   "id": "182c26b5",
   "metadata": {},
   "outputs": [
    {
     "data": {
      "text/plain": [
       "0.0008080511"
      ]
     },
     "execution_count": 14,
     "metadata": {},
     "output_type": "execute_result"
    }
   ],
   "source": [
    "thr95"
   ]
  },
  {
   "cell_type": "code",
   "execution_count": 15,
   "id": "3785d3ab",
   "metadata": {},
   "outputs": [
    {
     "data": {
      "text/plain": [
       "0.003242871"
      ]
     },
     "execution_count": 15,
     "metadata": {},
     "output_type": "execute_result"
    }
   ],
   "source": [
    "thr99"
   ]
  },
  {
   "cell_type": "code",
   "execution_count": 16,
   "id": "633c7eb4",
   "metadata": {},
   "outputs": [],
   "source": [
    "f_maxs = np.load(\"feature_maxs.npy\", allow_pickle=False)\n",
    "f_mins = np.load(\"feature_mins.npy\", allow_pickle=False)"
   ]
  },
  {
   "cell_type": "code",
   "execution_count": 17,
   "id": "f1bfe878",
   "metadata": {},
   "outputs": [
    {
     "data": {
      "text/plain": [
       "array([3.3689999e+01, 1.5592226e+00, 3.2112229e-01, 1.5576960e-01,\n",
       "       4.3307810e+00, 2.6482620e+00, 2.3755910e+00, 1.7999944e+02,\n",
       "       8.9486946e+01, 1.7999696e+02, 2.0000003e+02], dtype=float32)"
      ]
     },
     "execution_count": 17,
     "metadata": {},
     "output_type": "execute_result"
    }
   ],
   "source": [
    "f_maxs"
   ]
  },
  {
   "cell_type": "code",
   "execution_count": 18,
   "id": "55586f86",
   "metadata": {},
   "outputs": [
    {
     "data": {
      "text/plain": [
       "array([ 3.2500000e+01, -1.4038800e-01, -2.0001020e+00, -1.2661167e+00,\n",
       "       -3.5987680e+00, -2.1705351e+00, -3.1610720e+00, -1.7999988e+02,\n",
       "       -8.9971024e+01, -1.7999937e+02,  9.2307678e+01], dtype=float32)"
      ]
     },
     "execution_count": 18,
     "metadata": {},
     "output_type": "execute_result"
    }
   ],
   "source": [
    "f_mins"
   ]
  }
 ],
 "metadata": {
  "kernelspec": {
   "display_name": "py311",
   "language": "python",
   "name": "python3"
  },
  "language_info": {
   "codemirror_mode": {
    "name": "ipython",
    "version": 3
   },
   "file_extension": ".py",
   "mimetype": "text/x-python",
   "name": "python",
   "nbconvert_exporter": "python",
   "pygments_lexer": "ipython3",
   "version": "3.11.13"
  }
 },
 "nbformat": 4,
 "nbformat_minor": 5
}
