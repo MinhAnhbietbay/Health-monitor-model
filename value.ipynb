{
 "cells": [
  {
   "cell_type": "code",
   "execution_count": 9,
   "id": "45167c39",
   "metadata": {},
   "outputs": [],
   "source": [
    "import numpy as np\n",
    "thr95 = np.load(\"mse_threshold_95.npy\", allow_pickle=False)[0]\n",
    "thr99 = np.load(\"mse_threshold_99.npy\", allow_pickle=False)[0]"
   ]
  },
  {
   "cell_type": "code",
   "execution_count": 11,
   "id": "182c26b5",
   "metadata": {},
   "outputs": [
    {
     "data": {
      "text/plain": [
       "0.0008969453"
      ]
     },
     "execution_count": 11,
     "metadata": {},
     "output_type": "execute_result"
    }
   ],
   "source": [
    "thr95"
   ]
  },
  {
   "cell_type": "code",
   "execution_count": 12,
   "id": "3785d3ab",
   "metadata": {},
   "outputs": [
    {
     "data": {
      "text/plain": [
       "0.0035065566"
      ]
     },
     "execution_count": 12,
     "metadata": {},
     "output_type": "execute_result"
    }
   ],
   "source": [
    "thr99"
   ]
  },
  {
   "cell_type": "code",
   "execution_count": 13,
   "id": "633c7eb4",
   "metadata": {},
   "outputs": [],
   "source": [
    "f_maxs = np.load(\"feature_maxs.npy\", allow_pickle=False)[0]\n",
    "f_mins = np.load(\"feature_mins.npy\", allow_pickle=False)[0]"
   ]
  },
  {
   "cell_type": "code",
   "execution_count": 14,
   "id": "f1bfe878",
   "metadata": {},
   "outputs": [
    {
     "data": {
      "text/plain": [
       "33.69"
      ]
     },
     "execution_count": 14,
     "metadata": {},
     "output_type": "execute_result"
    }
   ],
   "source": [
    "f_maxs"
   ]
  },
  {
   "cell_type": "code",
   "execution_count": 15,
   "id": "55586f86",
   "metadata": {},
   "outputs": [
    {
     "data": {
      "text/plain": [
       "32.5"
      ]
     },
     "execution_count": 15,
     "metadata": {},
     "output_type": "execute_result"
    }
   ],
   "source": [
    "f_mins"
   ]
  }
 ],
 "metadata": {
  "kernelspec": {
   "display_name": "py311",
   "language": "python",
   "name": "python3"
  },
  "language_info": {
   "codemirror_mode": {
    "name": "ipython",
    "version": 3
   },
   "file_extension": ".py",
   "mimetype": "text/x-python",
   "name": "python",
   "nbconvert_exporter": "python",
   "pygments_lexer": "ipython3",
   "version": "3.11.13"
  }
 },
 "nbformat": 4,
 "nbformat_minor": 5
}
